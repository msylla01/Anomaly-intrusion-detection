{
 "cells": [
  {
   "cell_type": "code",
   "execution_count": 296,
   "metadata": {
    "scrolled": true
   },
   "outputs": [],
   "source": [
    "##################################################\n",
    "##### Intrusion Detection using K Means (k=59)\n",
    "##################################################\n",
    "\n",
    "import pandas\n",
    "from time import time\n",
    "\n",
    "##################################################\n",
    "##### Loading the data\n",
    "##################################################\n",
    "\n",
    "col_names = [\"duration\",\"protocol_type\",\"service\",\"flag\",\"src_bytes\",\n",
    "    \"dst_bytes\",\"land\",\"wrong_fragment\",\"urgent\",\"hot\",\"num_failed_logins\",\n",
    "    \"logged_in\",\"num_compromised\",\"root_shell\",\"su_attempted\",\"num_root\",\n",
    "    \"num_file_creations\",\"num_shells\",\"num_access_files\",\"num_outbound_cmds\",\n",
    "    \"is_host_login\",\"is_guest_login\",\"count\",\"srv_count\",\"serror_rate\",\n",
    "    \"srv_serror_rate\",\"rerror_rate\",\"srv_rerror_rate\",\"same_srv_rate\",\n",
    "    \"diff_srv_rate\",\"srv_diff_host_rate\",\"dst_host_count\",\"dst_host_srv_count\",\n",
    "    \"dst_host_same_srv_rate\",\"dst_host_diff_srv_rate\",\"dst_host_same_src_port_rate\",\n",
    "    \"dst_host_srv_diff_host_rate\",\"dst_host_serror_rate\",\"dst_host_srv_serror_rate\",\n",
    "    \"dst_host_rerror_rate\",\"dst_host_srv_rerror_rate\",\"label\"]\n",
    "\n",
    "kdd_data_10percent = pandas.read_csv(\"kddcup.data_10_percent_corrected\", header=None, names = col_names)\n",
    "\n",
    "#kdd_data_10percent.describe()\n",
    "#kdd_data_10percent['label'].value_counts()\n"
   ]
  },
  {
   "cell_type": "code",
   "execution_count": 266,
   "metadata": {},
   "outputs": [],
   "source": [
    "#print('Label distribution Training set:')\n",
    "#print(kdd_data_10percent[\"label\"].value_counts())\n",
    "#train_df=kdd_data_10percent.copy()"
   ]
  },
  {
   "cell_type": "code",
   "execution_count": 267,
   "metadata": {},
   "outputs": [],
   "source": [
    "#print(train_df[\"label\"].value_counts())"
   ]
  },
  {
   "cell_type": "code",
   "execution_count": 269,
   "metadata": {},
   "outputs": [],
   "source": [
    "#from sklearn.neighbors import KNeighborsClassifier\n",
    "#labels = train_df['label'].copy()\n",
    "#labels[labels!='normal.'] = 'attack.'\n",
    "#labels.value_counts()"
   ]
  },
  {
   "cell_type": "code",
   "execution_count": null,
   "metadata": {},
   "outputs": [],
   "source": []
  },
  {
   "cell_type": "code",
   "execution_count": 225,
   "metadata": {},
   "outputs": [],
   "source": [
    "#kdd_data_10percent.info()"
   ]
  },
  {
   "cell_type": "code",
   "execution_count": 270,
   "metadata": {},
   "outputs": [],
   "source": [
    "#train_df['label'].unique()"
   ]
  },
  {
   "cell_type": "code",
   "execution_count": null,
   "metadata": {},
   "outputs": [],
   "source": []
  },
  {
   "cell_type": "code",
   "execution_count": 227,
   "metadata": {},
   "outputs": [],
   "source": [
    "#train_df['label'] = pandas.Series([string[:-1] for string in train_df['label']])"
   ]
  },
  {
   "cell_type": "code",
   "execution_count": 228,
   "metadata": {},
   "outputs": [],
   "source": [
    "#train_df_1=train_df.copy()"
   ]
  },
  {
   "cell_type": "code",
   "execution_count": 271,
   "metadata": {},
   "outputs": [],
   "source": [
    "#train_df_1['target']=label_attack(train_df_1['label'])\n",
    "#kdd_data_10percent.info()"
   ]
  },
  {
   "cell_type": "code",
   "execution_count": 230,
   "metadata": {},
   "outputs": [],
   "source": [
    "#ggg = label_attack(kdd_data_10percent['label'])\n",
    "#kdd_data_10percent=kdd_data_10percent.drop(\"label\",axis=1)"
   ]
  },
  {
   "cell_type": "code",
   "execution_count": 272,
   "metadata": {},
   "outputs": [],
   "source": [
    "\n",
    "#train_df_1['target'].unique()"
   ]
  },
  {
   "cell_type": "code",
   "execution_count": 273,
   "metadata": {},
   "outputs": [],
   "source": [
    "#training_outcomes=train_df_1['target'].unique()\n",
    "#print(\"The training set has {} possible outcomes \\n\".format(len(training_outcomes)) )\n",
    "#print(\", \".join(training_outcomes)+\".\")"
   ]
  },
  {
   "cell_type": "code",
   "execution_count": 233,
   "metadata": {},
   "outputs": [],
   "source": [
    "#ggg= pandas.Series(ggg)"
   ]
  },
  {
   "cell_type": "code",
   "execution_count": 234,
   "metadata": {},
   "outputs": [],
   "source": [
    "#ggg.unique()"
   ]
  },
  {
   "cell_type": "code",
   "execution_count": 274,
   "metadata": {},
   "outputs": [],
   "source": [
    "#ggg.value_counts()\n",
    "#train_df_1['target'].value_counts()"
   ]
  },
  {
   "cell_type": "code",
   "execution_count": null,
   "metadata": {},
   "outputs": [],
   "source": []
  },
  {
   "cell_type": "code",
   "execution_count": null,
   "metadata": {},
   "outputs": [],
   "source": []
  },
  {
   "cell_type": "code",
   "execution_count": null,
   "metadata": {},
   "outputs": [],
   "source": []
  },
  {
   "cell_type": "code",
   "execution_count": 275,
   "metadata": {},
   "outputs": [],
   "source": [
    "classes=[\"Normal\",\"Dos\",\"R2L\",\"U2R\",\"Probe\"]\n"
   ]
  },
  {
   "cell_type": "code",
   "execution_count": null,
   "metadata": {},
   "outputs": [],
   "source": []
  },
  {
   "cell_type": "markdown",
   "metadata": {},
   "source": [
    "# Identify categorical features"
   ]
  },
  {
   "cell_type": "code",
   "execution_count": 276,
   "metadata": {},
   "outputs": [
    {
     "name": "stdout",
     "output_type": "stream",
     "text": [
      "Training set:\n",
      "Feature 'protocol_type' has 3 categories\n",
      "Feature 'service' has 66 categories\n",
      "Feature 'flag' has 11 categories\n",
      "Feature 'label' has 23 categories\n",
      "\n",
      "Distribution of categories in service:\n",
      "ecr_i      281400\n",
      "private    110893\n",
      "http        64293\n",
      "smtp         9723\n",
      "other        7237\n",
      "Name: service, dtype: int64\n"
     ]
    }
   ],
   "source": [
    "# colums that are categorical and not binary yet: protocol_type (column 2), service (column 3), flag (column 4).\n",
    "# explore categorical features\n",
    "print('Training set:')\n",
    "for col_name in kdd_data_10percent.columns:\n",
    "    if kdd_data_10percent[col_name].dtypes == 'object' :\n",
    "        unique_cat = len(kdd_data_10percent[col_name].unique())\n",
    "        print(\"Feature '{col_name}' has {unique_cat} categories\".format(col_name=col_name, unique_cat=unique_cat))\n",
    "\n",
    "#see how distributed the feature service is, it is evenly distributed and therefore we need to make dummies for all.\n",
    "print()\n",
    "print('Distribution of categories in service:')\n",
    "print(kdd_data_10percent['service'].value_counts().sort_values(ascending=False).head())"
   ]
  },
  {
   "cell_type": "markdown",
   "metadata": {},
   "source": [
    "### Conclusion: Need to make dummies for all categories as the distribution is fairly even. In total: 3+70+11=84 dummies.\n",
    "### Comparing the results shows that the Test set has fewer categories (6), these need to be added as empty columns."
   ]
  },
  {
   "cell_type": "markdown",
   "metadata": {},
   "source": [
    "Split Dataset into 4 datasets for every attack category\n",
    "Rename every attack label: 0=normal, 1=DoS, 2=Probe, 3=R2L and 4=U2R.\n",
    "Replace labels column with new labels column\n",
    "Make new datasets"
   ]
  },
  {
   "cell_type": "code",
   "execution_count": null,
   "metadata": {},
   "outputs": [],
   "source": []
  },
  {
   "cell_type": "code",
   "execution_count": 277,
   "metadata": {},
   "outputs": [
    {
     "data": {
      "text/plain": [
       "array(['normal.', 'buffer_overflow.', 'loadmodule.', 'perl.', 'neptune.',\n",
       "       'smurf.', 'guess_passwd.', 'pod.', 'teardrop.', 'portsweep.',\n",
       "       'ipsweep.', 'land.', 'ftp_write.', 'back.', 'imap.', 'satan.',\n",
       "       'phf.', 'nmap.', 'multihop.', 'warezmaster.', 'warezclient.',\n",
       "       'spy.', 'rootkit.'], dtype=object)"
      ]
     },
     "execution_count": 277,
     "metadata": {},
     "output_type": "execute_result"
    }
   ],
   "source": [
    "kdd_data_10percent['label'].unique()"
   ]
  },
  {
   "cell_type": "code",
   "execution_count": 278,
   "metadata": {},
   "outputs": [],
   "source": [
    "# A list ot attack names that belong to each general attack type\n",
    "dos_attacks=[\"snmpgetattack\",\"back\",\"land\",\"neptune\",\"smurf\",\"teardrop\",\"pod\",\"apache2\",\"udpstorm\",\"processtable\",\"mailbomb\"]\n",
    "r2l_attacks=[\"snmpguess\",\"worm\",\"httptunnel\",\"named\",\"xlock\",\"xsnoop\",\"sendmail\",\"ftp_write\",\"guess_passwd\",\"imap\",\"multihop\",\"phf\",\"spy\",\"warezclient\",\"warezmaster\"]\n",
    "u2r_attacks=[\"sqlattack\",\"buffer_overflow\",\"loadmodule\",\"perl\",\"rootkit\",\"xterm\",\"ps\"]\n",
    "probe_attacks=[\"ipsweep\",\"nmap\",\"portsweep\",\"satan\",\"saint\",\"mscan\"]\n",
    "\n",
    "# Our new labels\n",
    "classes=[\"Normal\",\"Dos\",\"R2L\",\"U2R\",\"Probe\"]\n",
    "\n",
    "#Helper function to label samples to 5 classes\n",
    "def label_attack (row):\n",
    "    row = np.array(row)\n",
    "    for i in range(len(row)):\n",
    "        if row[i] in dos_attacks:\n",
    "            row[i]= 'Dos'\n",
    "        elif row[i] in r2l_attacks:\n",
    "            row[i]= 'r2l'\n",
    "        elif row[i] in u2r_attacks:\n",
    "            row[i] = 'u2r'\n",
    "        elif row[i] in probe_attacks:\n",
    "            row[i] = 'probe'\n",
    "        else:\n",
    "            row[i] = 'Normal'\n",
    "    return row\n"
   ]
  },
  {
   "cell_type": "code",
   "execution_count": 240,
   "metadata": {},
   "outputs": [
    {
     "name": "stdout",
     "output_type": "stream",
     "text": [
      "yes\n"
     ]
    }
   ],
   "source": [
    "lst = np.array(pandas.Series(['ib', 'sl','nn']))\n",
    "if 'ib' in lst:\n",
    "    print('yes')"
   ]
  },
  {
   "cell_type": "code",
   "execution_count": null,
   "metadata": {},
   "outputs": [],
   "source": []
  },
  {
   "cell_type": "code",
   "execution_count": null,
   "metadata": {},
   "outputs": [],
   "source": []
  },
  {
   "cell_type": "code",
   "execution_count": null,
   "metadata": {},
   "outputs": [],
   "source": []
  },
  {
   "cell_type": "code",
   "execution_count": 297,
   "metadata": {},
   "outputs": [],
   "source": [
    "##################################################\n",
    "##### Features Selection\n",
    "##################################################\n",
    "\n",
    "num_features = [\n",
    "    \"duration\",\"src_bytes\",\n",
    "    \"dst_bytes\",\"land\",\"wrong_fragment\",\"urgent\",\"hot\",\"num_failed_logins\",\n",
    "    \"logged_in\",\"num_compromised\",\"root_shell\",\"su_attempted\",\"num_root\",\n",
    "    \"num_file_creations\",\"num_shells\",\"num_access_files\",\"num_outbound_cmds\",\n",
    "    \"is_host_login\",\"is_guest_login\",\"count\",\"srv_count\",\"serror_rate\",\n",
    "    \"srv_serror_rate\",\"rerror_rate\",\"srv_rerror_rate\",\"same_srv_rate\",\n",
    "    \"diff_srv_rate\",\"srv_diff_host_rate\",\"dst_host_count\",\"dst_host_srv_count\",\n",
    "    \"dst_host_same_srv_rate\",\"dst_host_diff_srv_rate\",\"dst_host_same_src_port_rate\",\n",
    "    \"dst_host_srv_diff_host_rate\",\"dst_host_serror_rate\",\"dst_host_srv_serror_rate\",\n",
    "    \"dst_host_rerror_rate\",\"dst_host_srv_rerror_rate\"\n",
    "]\n",
    "\n",
    "features = kdd_data_10percent[num_features].astype(float)\n",
    "\n",
    "# features.describe()\n"
   ]
  },
  {
   "cell_type": "code",
   "execution_count": null,
   "metadata": {},
   "outputs": [],
   "source": []
  },
  {
   "cell_type": "code",
   "execution_count": 1,
   "metadata": {},
   "outputs": [
    {
     "ename": "NameError",
     "evalue": "name 'kdd_data_10percent' is not defined",
     "output_type": "error",
     "traceback": [
      "\u001b[0;31m---------------------------------------------------------------------------\u001b[0m",
      "\u001b[0;31mNameError\u001b[0m                                 Traceback (most recent call last)",
      "\u001b[0;32m<ipython-input-1-d68af9343fcd>\u001b[0m in \u001b[0;36m<module>\u001b[0;34m()\u001b[0m\n\u001b[1;32m      1\u001b[0m \u001b[0;34m\u001b[0m\u001b[0m\n\u001b[1;32m      2\u001b[0m \u001b[0;32mimport\u001b[0m \u001b[0mpylab\u001b[0m\u001b[0;34m\u001b[0m\u001b[0m\n\u001b[0;32m----> 3\u001b[0;31m \u001b[0mpylab\u001b[0m\u001b[0;34m.\u001b[0m\u001b[0mhist\u001b[0m\u001b[0;34m(\u001b[0m\u001b[0mkdd_data_10percent\u001b[0m\u001b[0;34m[\u001b[0m\u001b[0;34m'protocol_type'\u001b[0m\u001b[0;34m]\u001b[0m\u001b[0;34m.\u001b[0m\u001b[0mvalue_counts\u001b[0m\u001b[0;34m(\u001b[0m\u001b[0;34m)\u001b[0m\u001b[0;34m,\u001b[0m \u001b[0mbins\u001b[0m\u001b[0;34m=\u001b[0m\u001b[0;36m5\u001b[0m\u001b[0;34m)\u001b[0m\u001b[0;34m\u001b[0m\u001b[0m\n\u001b[0m\u001b[1;32m      4\u001b[0m \u001b[0mpylab\u001b[0m\u001b[0;34m.\u001b[0m\u001b[0mshow\u001b[0m\u001b[0;34m(\u001b[0m\u001b[0;34m)\u001b[0m\u001b[0;34m\u001b[0m\u001b[0m\n",
      "\u001b[0;31mNameError\u001b[0m: name 'kdd_data_10percent' is not defined"
     ]
    }
   ],
   "source": [
    "\n",
    "import pylab\n",
    "pylab.hist(kdd_data_10percent['protocol_type'].value_counts(), bins=5)\n",
    "pylab.show()"
   ]
  },
  {
   "cell_type": "code",
   "execution_count": null,
   "metadata": {},
   "outputs": [],
   "source": [
    "accuracy=accuracy_score(y0_test,testing_set_predictions)\n",
    "recall=recall_score(y0_test,testing_set_predictions)\n",
    "precision=precision_score(y0_test,testing_set_predictions)\n",
    "f1=f1_score(y0_test,testing_set_predictions)\n",
    "print(\"Performance over the testing data set \\n\")\n",
    "print(\"Accuracy : {} , Recall : {} , Precision : {} , F1 : {}\\n\".format(accuracy,recall,precision,f1 ))\n",
    "\n",
    "\n",
    "\n",
    "\n",
    "for class_ in classes:\n",
    "    print(class_+\" Detection Rate : {}\".format(len(np.where(np.logical_and(testing_set_predictions==1 , y_test==class_))[0])/len(np.where(y_test==class_)[0])))"
   ]
  },
  {
   "cell_type": "code",
   "execution_count": 244,
   "metadata": {},
   "outputs": [],
   "source": [
    "#print(pandas.crosstab(kdd_data_10percent['protocol_type'],kdd_data_10percent['duration'],normalize='index'))"
   ]
  },
  {
   "cell_type": "code",
   "execution_count": 284,
   "metadata": {},
   "outputs": [
    {
     "data": {
      "text/plain": [
       "<matplotlib.axes._subplots.AxesSubplot at 0x7f4fd65a27f0>"
      ]
     },
     "execution_count": 284,
     "metadata": {},
     "output_type": "execute_result"
    },
    {
     "data": {
      "image/png": "[encoded data removed]",
      "text/plain": [
       "<Figure size 432x288 with 1 Axes>"
      ]
     },
     "metadata": {},
     "output_type": "display_data"
    }
   ],
   "source": [
    "kdd_data_10percent['protocol_type'].value_counts().plot.pie()"
   ]
  },
  {
   "cell_type": "code",
   "execution_count": 285,
   "metadata": {},
   "outputs": [
    {
     "data": {
      "text/plain": [
       "<matplotlib.axes._subplots.AxesSubplot at 0x7f50091b83c8>"
      ]
     },
     "execution_count": 285,
     "metadata": {},
     "output_type": "execute_result"
    },
    {
     "data": {
      "image/png": "[encoded data removed]",
      "text/plain": [
       "<Figure size 432x288 with 1 Axes>"
      ]
     },
     "metadata": {},
     "output_type": "display_data"
    }
   ],
   "source": [
    "kdd_data_10percent['label'].value_counts().plot.pie()"
   ]
  },
  {
   "cell_type": "code",
   "execution_count": null,
   "metadata": {},
   "outputs": [],
   "source": []
  },
  {
   "cell_type": "code",
   "execution_count": 298,
   "metadata": {},
   "outputs": [
    {
     "data": {
      "text/plain": [
       "attack.    396743\n",
       "normal.     97278\n",
       "Name: label, dtype: int64"
      ]
     },
     "execution_count": 298,
     "metadata": {},
     "output_type": "execute_result"
    }
   ],
   "source": [
    "##################################################\n",
    "##### Reduce the outputs to only attack/normal\n",
    "##################################################\n",
    "\n",
    "labels = kdd_data_10percent['label'].copy()\n",
    "labels[labels!='normal.'] = 'attack.'\n",
    "labels.value_counts()\n"
   ]
  },
  {
   "cell_type": "code",
   "execution_count": 299,
   "metadata": {},
   "outputs": [
    {
     "name": "stdout",
     "output_type": "stream",
     "text": [
      "Clustered in 60.233 seconds\n"
     ]
    }
   ],
   "source": [
    "##################################################\n",
    "##### KMeans clustering\n",
    "##################################################\n",
    "\n",
    "from sklearn.cluster import KMeans\n",
    "k = 59\n",
    "km = KMeans(n_clusters = k)\n",
    "\n",
    "t0 = time()\n",
    "km.fit(features)\n",
    "tt = time()-t0\n",
    "print(\"Clustered in {} seconds\".format(round(tt,3)))\n"
   ]
  },
  {
   "cell_type": "code",
   "execution_count": 300,
   "metadata": {},
   "outputs": [
    {
     "name": "stdout",
     "output_type": "stream",
     "text": [
      "Cluster 0 labels:\n",
      "attack.    112890\n",
      "normal.     24016\n",
      "dtype: int64\n",
      "\n",
      "Cluster 1 labels:\n",
      "attack.    1\n",
      "dtype: int64\n",
      "\n",
      "Cluster 2 labels:\n",
      "attack.    59\n",
      "dtype: int64\n",
      "\n",
      "Cluster 3 labels:\n",
      "attack.    15\n",
      "normal.     1\n",
      "dtype: int64\n",
      "\n",
      "Cluster 4 labels:\n",
      "normal.    22\n",
      "dtype: int64\n",
      "\n",
      "Cluster 5 labels:\n",
      "normal.    4\n",
      "dtype: int64\n",
      "\n",
      "Cluster 6 labels:\n",
      "normal.    8\n",
      "attack.    1\n",
      "dtype: int64\n",
      "\n",
      "Cluster 7 labels:\n",
      "normal.    2\n",
      "dtype: int64\n",
      "\n",
      "Cluster 8 labels:\n",
      "attack.    2173\n",
      "normal.      35\n",
      "dtype: int64\n",
      "\n",
      "Cluster 9 labels:\n",
      "normal.    2\n",
      "dtype: int64\n",
      "\n",
      "Cluster 10 labels:\n",
      "normal.    443\n",
      "attack.      1\n",
      "dtype: int64\n",
      "\n",
      "Cluster 11 labels:\n",
      "normal.    7\n",
      "dtype: int64\n",
      "\n",
      "Cluster 12 labels:\n",
      "normal.    3\n",
      "dtype: int64\n",
      "\n",
      "Cluster 13 labels:\n",
      "normal.    13\n",
      "dtype: int64\n",
      "\n",
      "Cluster 14 labels:\n",
      "normal.    2\n",
      "attack.    1\n",
      "dtype: int64\n",
      "\n",
      "Cluster 15 labels:\n",
      "normal.    737\n",
      "attack.      1\n",
      "dtype: int64\n",
      "\n",
      "Cluster 16 labels:\n",
      "normal.    17\n",
      "dtype: int64\n",
      "\n",
      "Cluster 17 labels:\n",
      "attack.    228017\n",
      "normal.       103\n",
      "dtype: int64\n",
      "\n",
      "Cluster 18 labels:\n",
      "normal.    3538\n",
      "attack.       9\n",
      "dtype: int64\n",
      "\n",
      "Cluster 19 labels:\n",
      "normal.    58\n",
      "dtype: int64\n",
      "\n",
      "Cluster 20 labels:\n",
      "normal.    2\n",
      "dtype: int64\n",
      "\n",
      "Cluster 21 labels:\n",
      "normal.    22\n",
      "dtype: int64\n",
      "\n",
      "Cluster 22 labels:\n",
      "normal.    272\n",
      "attack.     42\n",
      "dtype: int64\n",
      "\n",
      "Cluster 23 labels:\n",
      "normal.    8201\n",
      "attack.     294\n",
      "dtype: int64\n",
      "\n",
      "Cluster 24 labels:\n",
      "normal.    582\n",
      "attack.     11\n",
      "dtype: int64\n",
      "\n",
      "Cluster 25 labels:\n",
      "attack.    1\n",
      "dtype: int64\n",
      "\n",
      "Cluster 26 labels:\n",
      "normal.    155\n",
      "attack.      1\n",
      "dtype: int64\n",
      "\n",
      "Cluster 27 labels:\n",
      "normal.    3\n",
      "dtype: int64\n",
      "\n",
      "Cluster 28 labels:\n",
      "normal.    1\n",
      "dtype: int64\n",
      "\n",
      "Cluster 29 labels:\n",
      "normal.    2267\n",
      "dtype: int64\n",
      "\n",
      "Cluster 30 labels:\n",
      "normal.    5\n",
      "attack.    1\n",
      "dtype: int64\n",
      "\n",
      "Cluster 31 labels:\n",
      "normal.    3\n",
      "attack.    1\n",
      "dtype: int64\n",
      "\n",
      "Cluster 32 labels:\n",
      "normal.    1\n",
      "dtype: int64\n",
      "\n",
      "Cluster 33 labels:\n",
      "normal.    678\n",
      "attack.     18\n",
      "dtype: int64\n",
      "\n",
      "Cluster 34 labels:\n",
      "normal.    37\n",
      "dtype: int64\n",
      "\n",
      "Cluster 35 labels:\n",
      "normal.    2980\n",
      "attack.      12\n",
      "dtype: int64\n",
      "\n",
      "Cluster 36 labels:\n",
      "normal.    4\n",
      "dtype: int64\n",
      "\n",
      "Cluster 37 labels:\n",
      "normal.    11\n",
      "dtype: int64\n",
      "\n",
      "Cluster 38 labels:\n",
      "normal.    35\n",
      "dtype: int64\n",
      "\n",
      "Cluster 39 labels:\n",
      "normal.    13997\n",
      "attack.       12\n",
      "dtype: int64\n",
      "\n",
      "Cluster 40 labels:\n",
      "normal.    4\n",
      "dtype: int64\n",
      "\n",
      "Cluster 41 labels:\n",
      "normal.    877\n",
      "attack.     32\n",
      "dtype: int64\n",
      "\n",
      "Cluster 42 labels:\n",
      "normal.    86\n",
      "attack.    19\n",
      "dtype: int64\n",
      "\n",
      "Cluster 43 labels:\n",
      "normal.    4536\n",
      "attack.      11\n",
      "dtype: int64\n",
      "\n",
      "Cluster 44 labels:\n",
      "normal.    18\n",
      "dtype: int64\n",
      "\n",
      "Cluster 45 labels:\n",
      "normal.    648\n",
      "attack.      1\n",
      "dtype: int64\n",
      "\n",
      "Cluster 46 labels:\n",
      "normal.    1\n",
      "dtype: int64\n",
      "\n",
      "Cluster 47 labels:\n",
      "normal.    3\n",
      "dtype: int64\n",
      "\n",
      "Cluster 48 labels:\n",
      "normal.    1\n",
      "dtype: int64\n",
      "\n",
      "Cluster 49 labels:\n",
      "normal.    1\n",
      "dtype: int64\n",
      "\n",
      "Cluster 50 labels:\n",
      "normal.    9\n",
      "dtype: int64\n",
      "\n",
      "Cluster 51 labels:\n",
      "normal.    227\n",
      "dtype: int64\n",
      "\n",
      "Cluster 52 labels:\n",
      "attack.    37\n",
      "normal.     8\n",
      "dtype: int64\n",
      "\n",
      "Cluster 53 labels:\n",
      "normal.    6281\n",
      "attack.     261\n",
      "dtype: int64\n",
      "\n",
      "Cluster 54 labels:\n",
      "attack.    52760\n",
      "normal.       37\n",
      "dtype: int64\n",
      "\n",
      "Cluster 55 labels:\n",
      "normal.    1\n",
      "dtype: int64\n",
      "\n",
      "Cluster 56 labels:\n",
      "normal.    1352\n",
      "attack.       1\n",
      "dtype: int64\n",
      "\n",
      "Cluster 57 labels:\n",
      "normal.    24919\n",
      "attack.       60\n",
      "dtype: int64\n",
      "\n",
      "Cluster 58 labels:\n",
      "normal.    2\n",
      "dtype: int64\n",
      "\n"
     ]
    }
   ],
   "source": [
    "\n",
    "##################################################\n",
    "##### Get labels for each cluster formed\n",
    "##################################################\n",
    "\n",
    "# labels = kdd_data_10percent['label']\n",
    "label_names = list(map(\n",
    "    lambda x: pandas.Series([labels[i] for i in range(len(km.labels_)) if km.labels_[i]==x]), \n",
    "    range(k)))\n",
    "\n",
    "\n",
    "for i in range(k):\n",
    "    print(\"Cluster {} labels:\".format(i))\n",
    "    print(label_names[i].value_counts())\n",
    "    print()"
   ]
  },
  {
   "cell_type": "code",
   "execution_count": null,
   "metadata": {},
   "outputs": [],
   "source": [
    "import numpy as np\n",
    "x_cols = np.array(kdd_data_10percent.iloc[:, :42])\n",
    "ss = []\n",
    "ks = range(0, 59)\n",
    "for k in ks:\n",
    "    kmeans = KMeans(n_clusters=k, random_state=2)\n",
    "    labels = kmeans.fit_predict(x_cols)\n",
    "    ss.append(kmeans.inertia_)\n",
    "f, axes = plt.subplots(figsize=(8, 8))\n",
    "axes.plot(ks, ss, marker='.')\n",
    "axes.set(xlabel='K = num_cluster', ylabel = 'Sum Square Error = Inertia', title = 'Elbow Plot')"
   ]
  },
  {
   "cell_type": "code",
   "execution_count": null,
   "metadata": {},
   "outputs": [],
   "source": []
  },
  {
   "cell_type": "code",
   "execution_count": 301,
   "metadata": {},
   "outputs": [],
   "source": [
    "\n",
    "##################################################\n",
    "##### Get one label for each cluster based on max frequency\n",
    "##################################################\n",
    "\n",
    "clusters = []\n",
    "for i in range(len(label_names)):\n",
    "    clusters.append(label_names[i].value_counts().index.tolist()[0])\n",
    "\n",
    "\n"
   ]
  },
  {
   "cell_type": "code",
   "execution_count": 302,
   "metadata": {},
   "outputs": [],
   "source": [
    "\n",
    "##################################################\n",
    "##### Load the test data\n",
    "##################################################\n",
    "\n",
    "kdd_data_corrected = pandas.read_csv(\"corrected\", header=None, names = col_names)\n",
    "kdd_data_corrected['label'].value_counts()\n",
    "\n",
    "corrected = kdd_data_corrected[num_features].astype(float)\n",
    "true_labels = kdd_data_corrected['label'].copy()\n",
    "true_labels[true_labels!='normal.'] = 'attack.'\n"
   ]
  },
  {
   "cell_type": "code",
   "execution_count": 303,
   "metadata": {},
   "outputs": [
    {
     "name": "stdout",
     "output_type": "stream",
     "text": [
      "Assigned clusters in 0.588 seconds\n"
     ]
    }
   ],
   "source": [
    "\n",
    "##################################################\n",
    "##### Predictions\n",
    "##################################################\n",
    "\n",
    "t0 = time()\n",
    "pred = km.predict(corrected)\n",
    "tt = time() - t0\n",
    "print(\"Assigned clusters in {} seconds\".format(round(tt,3)))\n",
    "\n",
    "new_labels = [] \n",
    "for i in pred:                   \n",
    "    new_labels.append(clusters[i])"
   ]
  },
  {
   "cell_type": "code",
   "execution_count": 304,
   "metadata": {},
   "outputs": [
    {
     "name": "stdout",
     "output_type": "stream",
     "text": [
      "\n",
      "\n",
      "Accuracy 92.022 %\n",
      "\n",
      "\n",
      "Confusion Matrix: \n",
      "\n",
      " [[243337   7099]\n",
      " [ 17716  42877]]\n",
      "\n",
      "\n",
      "Classification Scores: \n",
      "\n",
      "              precision    recall  f1-score   support\n",
      "\n",
      "    attack.       0.93      0.97      0.95    250436\n",
      "    normal.       0.86      0.71      0.78     60593\n",
      "\n",
      "avg / total       0.92      0.92      0.92    311029\n",
      "\n",
      "\n",
      "\n",
      "Hamming Loss 0.07978355716026479\n",
      "\n",
      "\n",
      "Jaccard Similarity Score 0.9202164428397352\n",
      "\n",
      "\n",
      "Matthews corrcoef 0.7325901263573789\n",
      "\n",
      "\n",
      "Zero-One Loss 0.07978355716026475\n"
     ]
    }
   ],
   "source": [
    "\n",
    "##################################################\n",
    "##### Calculate Metrics\n",
    "##################################################\n",
    "\n",
    "from sklearn.metrics import accuracy_score, confusion_matrix, classification_report, hamming_loss, jaccard_similarity_score, matthews_corrcoef, zero_one_loss\n",
    "\n",
    "accuracy_score = accuracy_score(true_labels, new_labels)\n",
    "print(\"\\n\\nAccuracy {} %\".format(round(accuracy_score*100,3)))\n",
    "\n",
    "confusion_matrix = confusion_matrix(true_labels, new_labels)\n",
    "print(\"\\n\\nConfusion Matrix: \\n\\n {}\".format(confusion_matrix))\n",
    "\n",
    "classification_report = classification_report(true_labels, new_labels)\n",
    "print(\"\\n\\nClassification Scores: \\n\\n {}\".format(classification_report))\n",
    "\n",
    "hamming_loss = hamming_loss(true_labels, new_labels)\n",
    "print(\"\\n\\nHamming Loss {}\".format(hamming_loss))\n",
    "\n",
    "jaccard_similarity_score = jaccard_similarity_score(true_labels, new_labels)\n",
    "print(\"\\n\\nJaccard Similarity Score {}\".format(jaccard_similarity_score))\n",
    "\n",
    "matthews_corrcoef = matthews_corrcoef(true_labels, new_labels)\n",
    "print(\"\\n\\nMatthews corrcoef {}\".format(matthews_corrcoef))\n",
    "\n",
    "zero_one_loss = zero_one_loss(true_labels, new_labels)\n",
    "print(\"\\n\\nZero-One Loss {}\".format(zero_one_loss))"
   ]
  },
  {
   "cell_type": "code",
   "execution_count": 305,
   "metadata": {},
   "outputs": [
    {
     "name": "stdout",
     "output_type": "stream",
     "text": [
      "[[243337   7099]\n",
      " [ 17716  42877]]\n"
     ]
    },
    {
     "data": {
      "image/png": "[encoded data removed]",
      "text/plain": [
       "<Figure size 396x288 with 2 Axes>"
      ]
     },
     "metadata": {},
     "output_type": "display_data"
    }
   ],
   "source": [
    "from sklearn.metrics import classification_report ,confusion_matrix\n",
    "import matplotlib.pyplot as plt\n",
    "import seaborn as sns\n",
    "\n",
    "cm = confusion_matrix(true_labels, new_labels) \n",
    "print(cm)\n",
    "\n",
    "# Transform to df for easier plotting\n",
    "cm_df = pandas.DataFrame(cm,\n",
    "                     index = [0,1], \n",
    "                     columns = [0,1])\n",
    "\n",
    "plt.figure(figsize=(5.5,4))\n",
    "sns.heatmap(cm_df, annot=True)\n",
    "plt.title('K-means Clustering ')\n",
    "plt.ylabel('True label')\n",
    "plt.xlabel('Predicted label')\n",
    "plt.show()"
   ]
  },
  {
   "cell_type": "code",
   "execution_count": null,
   "metadata": {},
   "outputs": [],
   "source": []
  },
  {
   "cell_type": "code",
   "execution_count": null,
   "metadata": {},
   "outputs": [],
   "source": []
  }
 ],
 "metadata": {
  "hide_input": false,
  "kernelspec": {
   "display_name": "Python 3",
   "language": "python",
   "name": "python3"
  },
  "language_info": {
   "codemirror_mode": {
    "name": "ipython",
    "version": 3
   },
   "file_extension": ".py",
   "mimetype": "text/x-python",
   "name": "python",
   "nbconvert_exporter": "python",
   "pygments_lexer": "ipython3",
   "version": "3.7.3"
  },
  "latex_envs": {
   "LaTeX_envs_menu_present": true,
   "autoclose": false,
   "autocomplete": true,
   "bibliofile": "biblio.bib",
   "cite_by": "apalike",
   "current_citInitial": 1,
   "eqLabelWithNumbers": true,
   "eqNumInitial": 1,
   "hotkeys": {
    "equation": "Ctrl-E",
    "itemize": "Ctrl-I"
   },
   "labels_anchors": false,
   "latex_user_defs": false,
   "report_style_numbering": false,
   "user_envs_cfg": false
  },
  "toc": {
   "base_numbering": 1,
   "nav_menu": {},
   "number_sections": true,
   "sideBar": true,
   "skip_h1_title": false,
   "title_cell": "Table of Contents",
   "title_sidebar": "Contents",
   "toc_cell": false,
   "toc_position": {},
   "toc_section_display": true,
   "toc_window_display": false
  },
  "varInspector": {
   "cols": {
    "lenName": 16,
    "lenType": 16,
    "lenVar": 40
   },
   "kernels_config": {
    "python": {
     "delete_cmd_postfix": "",
     "delete_cmd_prefix": "del ",
     "library": "var_list.py",
     "varRefreshCmd": "print(var_dic_list())"
    },
    "r": {
     "delete_cmd_postfix": ") ",
     "delete_cmd_prefix": "rm(",
     "library": "var_list.r",
     "varRefreshCmd": "cat(var_dic_list()) "
    }
   },
   "types_to_exclude": [
    "module",
    "function",
    "builtin_function_or_method",
    "instance",
    "_Feature"
   ],
   "window_display": false
  }
 },
 "nbformat": 4,
 "nbformat_minor": 2
}
